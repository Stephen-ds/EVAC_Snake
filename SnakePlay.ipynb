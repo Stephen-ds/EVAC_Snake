{
 "cells": [
  {
   "cell_type": "markdown",
   "metadata": {},
   "source": [
    "This version of the snake game allows you to play the same yourself using the arrow keys."
   ]
  },
  {
   "cell_type": "code",
   "execution_count": null,
   "metadata": {},
   "outputs": [],
   "source": [
    "import random\n",
    "import time\n",
    "import turtle"
   ]
  },
  {
   "cell_type": "code",
   "execution_count": null,
   "metadata": {},
   "outputs": [],
   "source": [
    "class DisplayGame:\n",
    "    def __init__(self, XSIZE, YSIZE):\n",
    "        # SCREEN\n",
    "        self.win = turtle.Screen()\n",
    "        self.win.title(\"EVCO Snake game\")\n",
    "        self.win.bgcolor(\"grey\")\n",
    "        self.win.setup(width=(XSIZE*20)+18,height=(YSIZE*20)+18)\n",
    "        self.win.screensize((XSIZE*20),(YSIZE*20))\n",
    "        self.win.tracer(0)\n",
    "\n",
    "        #Snake Head\n",
    "        self.head = turtle.Turtle()\n",
    "        self.head.shape(\"square\")\n",
    "        self.head.color(\"black\")\n",
    "\n",
    "        # Snake food\n",
    "        self.food = turtle.Turtle()\n",
    "        self.food.shape(\"circle\")\n",
    "        self.food.color(\"yellow\")\n",
    "        self.food.penup()\n",
    "        self.food.shapesize(0.55, 0.55)\n",
    "        \n",
    "        self.segments = []\n",
    "        self.reset()\n",
    "\n",
    "    def reset(self):\n",
    "        self.head.penup()\n",
    "        self.food.goto(-500, -500)\n",
    "        self.head.goto(-500, -500)\n",
    "        self.segments = []\n",
    "        \n",
    "    def update_food(self,new_food):\n",
    "        self.food.goto(((new_food[1]-9)*20), ((9-new_food[0])*20)-10)\n",
    "        \n",
    "    def update_segment_positions(self, snake):\n",
    "        self.head.goto(((snake[0][1]-9)*20), ((9-snake[0][0])*20)-10)\n",
    "        for i in range(len(self.segments)):\n",
    "            self.segments[i].goto(((snake[i+1][1]-9)*20), ((9-snake[i+1][0])*20)-10)\n",
    "\n",
    "    def add_snake_segment(self):\n",
    "        self.new_segment = turtle.Turtle()\n",
    "        self.new_segment.speed(0)\n",
    "        self.new_segment.shape(\"square\")\n",
    "        self.new_segment.color(\"green\")\n",
    "        self.new_segment.penup()\n",
    "        self.segments.append(self.new_segment)"
   ]
  },
  {
   "cell_type": "code",
   "execution_count": null,
   "metadata": {},
   "outputs": [],
   "source": [
    "XSIZE = YSIZE = 18 # Grids in each direction\n",
    "\n",
    "display = DisplayGame(XSIZE,YSIZE)\n",
    "display.win.update()\n",
    "    \n",
    "def go_up():\n",
    "    display.head.direction = \"up\"\n",
    " \n",
    "def go_down():\n",
    "    display.head.direction = \"down\"\n",
    " \n",
    "def go_right():\n",
    "    display.head.direction = \"right\"\n",
    " \n",
    "def go_left():\n",
    "    display.head.direction = \"left\""
   ]
  },
  {
   "cell_type": "code",
   "execution_count": null,
   "metadata": {},
   "outputs": [],
   "source": [
    "def placeFood(snake):\n",
    "    food = [random.randint(1, (YSIZE-2)), random.randint(1, (XSIZE-2))]\n",
    "    while (food in snake):\n",
    "        food = [random.randint(1, (YSIZE-2)), random.randint(1, (XSIZE-2))]\n",
    "    return( food )"
   ]
  },
  {
   "cell_type": "code",
   "execution_count": null,
   "metadata": {},
   "outputs": [],
   "source": [
    "display.win.listen()\n",
    "display.win.onkey(go_up, \"w\")\n",
    "display.win.onkey(go_down, \"s\")\n",
    "display.win.onkey(go_right, \"d\")\n",
    "display.win.onkey(go_left, \"a\")\n",
    "\n",
    "score = 0\n",
    "snake = [[8,10], [8,9], [8,8], [8,7], [8,6], [8,5], [8,4], [8,3], [8,2], [8,1],[8,0] ]# Initial snake co-ordinates [ypos,xpos]\n",
    "\n",
    "for i in range(len(snake)-1): display.add_snake_segment()  \n",
    "display.update_segment_positions(snake)"
   ]
  },
  {
   "cell_type": "code",
   "execution_count": null,
   "metadata": {},
   "outputs": [],
   "source": [
    "food = placeFood(snake)\n",
    "display.update_food(food)\n",
    "snake_direction = random.choice([\"right\",\"up\",\"down\"]) # random start direction (cannot be left)\n",
    "\n",
    "display.head.direction = snake_direction\n",
    "display.win.update()"
   ]
  },
  {
   "cell_type": "code",
   "execution_count": null,
   "metadata": {},
   "outputs": [],
   "source": [
    "game_over = False\n",
    "while not game_over:\n",
    "    \n",
    "    #*Add your evolved controller here to decide on the direction the snake should take*\n",
    "    #snake_direction = \"down\" / snake_direction = \"up\" / snake_direction = \"left\" / snake_direction = \"right\"\n",
    "    \n",
    "    snake_direction = display.head.direction\n",
    "    \n",
    "    snake.insert(0, [snake[0][0] + (snake_direction == \"down\" and 1) + (snake_direction == \"up\" and -1), snake[0][1] + (snake_direction == \"left\" and -1) + (snake_direction == \"right\" and 1)])\n",
    "\n",
    "    if snake[0] == food:                                            # When snake eats the food\n",
    "        score += 1\n",
    "        print(\"Score:\" + str(score))\n",
    "        food = placeFood(snake)\n",
    "        display.update_food(food)\n",
    "    else:    \n",
    "        last = snake.pop()  # [1] If it does not eat the food, it moves forward and so last tail item is removed\n",
    "\n",
    "    display.update_segment_positions(snake)\n",
    "\n",
    "    # Game over if the snake runs over itself\n",
    "    if snake[0] in snake[1:]:\n",
    "        game_over = True\n",
    "        print(\"Snake turned into itself!\")\n",
    "\n",
    "    # Game over if the snake goes through a wall\n",
    "    if snake[0][0] == 0 or snake[0][0] == (YSIZE-1) or snake[0][1] == 0 or snake[0][1] == (XSIZE-1):\n",
    "        game_over = True\n",
    "        print(\"Snake hit a wall!\")\n",
    "\n",
    "    display.win.update()\n",
    "    time.sleep(0.2)\n",
    "   \n",
    "print(\"\\nFINAL score - \" + str(score))\n",
    "print()\n",
    "turtle.bye()"
   ]
  }
 ],
 "metadata": {
  "kernelspec": {
   "display_name": "ENVCOenv2020",
   "language": "python",
   "name": "envcoenv2020"
  },
  "language_info": {
   "codemirror_mode": {
    "name": "ipython",
    "version": 3
   },
   "file_extension": ".py",
   "mimetype": "text/x-python",
   "name": "python",
   "nbconvert_exporter": "python",
   "pygments_lexer": "ipython3",
   "version": "3.8.3"
  }
 },
 "nbformat": 4,
 "nbformat_minor": 4
}
